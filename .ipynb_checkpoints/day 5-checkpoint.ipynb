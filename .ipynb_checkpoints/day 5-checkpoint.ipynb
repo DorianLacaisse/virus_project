{
 "cells": [
  {
   "cell_type": "code",
   "execution_count": 72,
   "metadata": {
    "collapsed": true
   },
   "outputs": [],
   "source": [
    "import numpy as np\n",
    "import pandas as pd \n",
    "import matplotlib.pyplot as plt\n",
    "from patsy import dmatrices\n",
    "from sklearn.linear_model import LogisticRegression\n",
    "from sklearn.model_selection import train_test_split, cross_val_score\n",
    "from sklearn import metrics\n",
    "from sqlalchemy import create_engine\n",
    "from sklearn.decomposition import PCA \n",
    "from sklearn.preprocessing import StandardScaler,LabelEncoder, MaxAbsScaler,MinMaxScaler\n",
    "from scipy.cluster.hierarchy import dendrogram, linkage, cophenet, fcluster\n",
    "from scipy.spatial.distance import pdist\n",
    "from sklearn.cluster import KMeans, DBSCAN, AgglomerativeClustering\n",
    "from sklearn.ensemble import BaggingClassifier, AdaBoostClassifier, ExtraTreesClassifier, RandomForestClassifier\n",
    "from sklearn.model_selection import cross_val_score, cross_val_predict\n",
    "from sklearn.naive_bayes import BernoulliNB, MultinomialNB\n",
    "from sklearn import svm\n",
    "\n",
    "from __future__ import division\n",
    "%matplotlib inline"
   ]
  },
  {
   "cell_type": "code",
   "execution_count": 2,
   "metadata": {
    "collapsed": false
   },
   "outputs": [
    {
     "data": {
      "text/html": [
       "<div>\n",
       "<table border=\"1\" class=\"dataframe\">\n",
       "  <thead>\n",
       "    <tr style=\"text-align: right;\">\n",
       "      <th></th>\n",
       "      <th>Trap</th>\n",
       "      <th>weather_station</th>\n",
       "      <th>CULEX PIPIENS</th>\n",
       "      <th>CULEX PIPIENS/RESTUANS</th>\n",
       "      <th>CULEX RESTUANS</th>\n",
       "      <th>CULEX SALINARIUS</th>\n",
       "      <th>CULEX TARSALIS</th>\n",
       "      <th>CULEX TERRITANS</th>\n",
       "      <th>spray</th>\n",
       "      <th>PCAw1</th>\n",
       "      <th>PCAw2</th>\n",
       "      <th>PCAw3</th>\n",
       "      <th>PCAw4</th>\n",
       "      <th>PCAw5</th>\n",
       "    </tr>\n",
       "    <tr>\n",
       "      <th>Date</th>\n",
       "      <th></th>\n",
       "      <th></th>\n",
       "      <th></th>\n",
       "      <th></th>\n",
       "      <th></th>\n",
       "      <th></th>\n",
       "      <th></th>\n",
       "      <th></th>\n",
       "      <th></th>\n",
       "      <th></th>\n",
       "      <th></th>\n",
       "      <th></th>\n",
       "      <th></th>\n",
       "      <th></th>\n",
       "    </tr>\n",
       "  </thead>\n",
       "  <tbody>\n",
       "    <tr>\n",
       "      <th>2007-05-29</th>\n",
       "      <td>T002</td>\n",
       "      <td>1</td>\n",
       "      <td>0.0</td>\n",
       "      <td>1.0</td>\n",
       "      <td>0.0</td>\n",
       "      <td>0.0</td>\n",
       "      <td>0.0</td>\n",
       "      <td>0.0</td>\n",
       "      <td>1000</td>\n",
       "      <td>-1.322259</td>\n",
       "      <td>-1.422859</td>\n",
       "      <td>-0.539961</td>\n",
       "      <td>-0.364724</td>\n",
       "      <td>0.243278</td>\n",
       "    </tr>\n",
       "    <tr>\n",
       "      <th>2007-05-29</th>\n",
       "      <td>T002</td>\n",
       "      <td>1</td>\n",
       "      <td>0.0</td>\n",
       "      <td>0.0</td>\n",
       "      <td>1.0</td>\n",
       "      <td>0.0</td>\n",
       "      <td>0.0</td>\n",
       "      <td>0.0</td>\n",
       "      <td>1000</td>\n",
       "      <td>-1.322259</td>\n",
       "      <td>-1.422859</td>\n",
       "      <td>-0.539961</td>\n",
       "      <td>-0.364724</td>\n",
       "      <td>0.243278</td>\n",
       "    </tr>\n",
       "    <tr>\n",
       "      <th>2007-05-29</th>\n",
       "      <td>T007</td>\n",
       "      <td>1</td>\n",
       "      <td>0.0</td>\n",
       "      <td>0.0</td>\n",
       "      <td>1.0</td>\n",
       "      <td>0.0</td>\n",
       "      <td>0.0</td>\n",
       "      <td>0.0</td>\n",
       "      <td>1000</td>\n",
       "      <td>-1.322259</td>\n",
       "      <td>-1.422859</td>\n",
       "      <td>-0.539961</td>\n",
       "      <td>-0.364724</td>\n",
       "      <td>0.243278</td>\n",
       "    </tr>\n",
       "    <tr>\n",
       "      <th>2007-05-29</th>\n",
       "      <td>T015</td>\n",
       "      <td>1</td>\n",
       "      <td>0.0</td>\n",
       "      <td>1.0</td>\n",
       "      <td>0.0</td>\n",
       "      <td>0.0</td>\n",
       "      <td>0.0</td>\n",
       "      <td>0.0</td>\n",
       "      <td>1000</td>\n",
       "      <td>-1.322259</td>\n",
       "      <td>-1.422859</td>\n",
       "      <td>-0.539961</td>\n",
       "      <td>-0.364724</td>\n",
       "      <td>0.243278</td>\n",
       "    </tr>\n",
       "    <tr>\n",
       "      <th>2007-05-29</th>\n",
       "      <td>T015</td>\n",
       "      <td>1</td>\n",
       "      <td>0.0</td>\n",
       "      <td>0.0</td>\n",
       "      <td>1.0</td>\n",
       "      <td>0.0</td>\n",
       "      <td>0.0</td>\n",
       "      <td>0.0</td>\n",
       "      <td>1000</td>\n",
       "      <td>-1.322259</td>\n",
       "      <td>-1.422859</td>\n",
       "      <td>-0.539961</td>\n",
       "      <td>-0.364724</td>\n",
       "      <td>0.243278</td>\n",
       "    </tr>\n",
       "  </tbody>\n",
       "</table>\n",
       "</div>"
      ],
      "text/plain": [
       "            Trap  weather_station  CULEX PIPIENS  CULEX PIPIENS/RESTUANS  \\\n",
       "Date                                                                       \n",
       "2007-05-29  T002                1            0.0                     1.0   \n",
       "2007-05-29  T002                1            0.0                     0.0   \n",
       "2007-05-29  T007                1            0.0                     0.0   \n",
       "2007-05-29  T015                1            0.0                     1.0   \n",
       "2007-05-29  T015                1            0.0                     0.0   \n",
       "\n",
       "            CULEX RESTUANS  CULEX SALINARIUS  CULEX TARSALIS  CULEX TERRITANS  \\\n",
       "Date                                                                            \n",
       "2007-05-29             0.0               0.0             0.0              0.0   \n",
       "2007-05-29             1.0               0.0             0.0              0.0   \n",
       "2007-05-29             1.0               0.0             0.0              0.0   \n",
       "2007-05-29             0.0               0.0             0.0              0.0   \n",
       "2007-05-29             1.0               0.0             0.0              0.0   \n",
       "\n",
       "            spray     PCAw1     PCAw2     PCAw3     PCAw4     PCAw5  \n",
       "Date                                                                 \n",
       "2007-05-29   1000 -1.322259 -1.422859 -0.539961 -0.364724  0.243278  \n",
       "2007-05-29   1000 -1.322259 -1.422859 -0.539961 -0.364724  0.243278  \n",
       "2007-05-29   1000 -1.322259 -1.422859 -0.539961 -0.364724  0.243278  \n",
       "2007-05-29   1000 -1.322259 -1.422859 -0.539961 -0.364724  0.243278  \n",
       "2007-05-29   1000 -1.322259 -1.422859 -0.539961 -0.364724  0.243278  "
      ]
     },
     "execution_count": 2,
     "metadata": {},
     "output_type": "execute_result"
    }
   ],
   "source": [
    "train=pd.read_csv(\"train3.csv\")\n",
    "train.set_index(\"Date\",inplace=True)\n",
    "train.sort_index(inplace=True)\n",
    "pd.to_datetime(train.index)\n",
    "train.head()"
   ]
  },
  {
   "cell_type": "code",
   "execution_count": 3,
   "metadata": {
    "collapsed": false
   },
   "outputs": [],
   "source": [
    "train2=pd.read_csv(\"train2.csv\")\n",
    "train2.set_index(\"Date\",inplace=True)\n",
    "train2.sort_index(inplace=True)\n",
    "pd.to_datetime(train2.index)\n",
    "target=train2[\"WnvPresent\"]"
   ]
  },
  {
   "cell_type": "code",
   "execution_count": 4,
   "metadata": {
    "collapsed": false
   },
   "outputs": [
    {
     "data": {
      "text/html": [
       "<div>\n",
       "<table border=\"1\" class=\"dataframe\">\n",
       "  <thead>\n",
       "    <tr style=\"text-align: right;\">\n",
       "      <th></th>\n",
       "      <th>Trap</th>\n",
       "      <th>weather_station</th>\n",
       "      <th>CULEX PIPIENS</th>\n",
       "      <th>CULEX PIPIENS/RESTUANS</th>\n",
       "      <th>CULEX RESTUANS</th>\n",
       "      <th>CULEX SALINARIUS</th>\n",
       "      <th>CULEX TARSALIS</th>\n",
       "      <th>CULEX TERRITANS</th>\n",
       "      <th>UNSPECIFIED CULEX</th>\n",
       "      <th>spray</th>\n",
       "      <th>PCAw1</th>\n",
       "      <th>PCAw2</th>\n",
       "      <th>PCAw3</th>\n",
       "      <th>PCAw4</th>\n",
       "      <th>PCAw5</th>\n",
       "    </tr>\n",
       "    <tr>\n",
       "      <th>Date</th>\n",
       "      <th></th>\n",
       "      <th></th>\n",
       "      <th></th>\n",
       "      <th></th>\n",
       "      <th></th>\n",
       "      <th></th>\n",
       "      <th></th>\n",
       "      <th></th>\n",
       "      <th></th>\n",
       "      <th></th>\n",
       "      <th></th>\n",
       "      <th></th>\n",
       "      <th></th>\n",
       "      <th></th>\n",
       "      <th></th>\n",
       "    </tr>\n",
       "  </thead>\n",
       "  <tbody>\n",
       "    <tr>\n",
       "      <th>2008-06-11</th>\n",
       "      <td>T002</td>\n",
       "      <td>1</td>\n",
       "      <td>0.0</td>\n",
       "      <td>1.0</td>\n",
       "      <td>0.0</td>\n",
       "      <td>0.0</td>\n",
       "      <td>0.0</td>\n",
       "      <td>0.0</td>\n",
       "      <td>0.0</td>\n",
       "      <td>1000</td>\n",
       "      <td>-1.243057</td>\n",
       "      <td>0.222085</td>\n",
       "      <td>-0.979018</td>\n",
       "      <td>-0.159736</td>\n",
       "      <td>-0.0776</td>\n",
       "    </tr>\n",
       "    <tr>\n",
       "      <th>2008-06-11</th>\n",
       "      <td>T002</td>\n",
       "      <td>1</td>\n",
       "      <td>0.0</td>\n",
       "      <td>0.0</td>\n",
       "      <td>1.0</td>\n",
       "      <td>0.0</td>\n",
       "      <td>0.0</td>\n",
       "      <td>0.0</td>\n",
       "      <td>0.0</td>\n",
       "      <td>1000</td>\n",
       "      <td>-1.243057</td>\n",
       "      <td>0.222085</td>\n",
       "      <td>-0.979018</td>\n",
       "      <td>-0.159736</td>\n",
       "      <td>-0.0776</td>\n",
       "    </tr>\n",
       "    <tr>\n",
       "      <th>2008-06-11</th>\n",
       "      <td>T002</td>\n",
       "      <td>1</td>\n",
       "      <td>1.0</td>\n",
       "      <td>0.0</td>\n",
       "      <td>0.0</td>\n",
       "      <td>0.0</td>\n",
       "      <td>0.0</td>\n",
       "      <td>0.0</td>\n",
       "      <td>0.0</td>\n",
       "      <td>1000</td>\n",
       "      <td>-1.243057</td>\n",
       "      <td>0.222085</td>\n",
       "      <td>-0.979018</td>\n",
       "      <td>-0.159736</td>\n",
       "      <td>-0.0776</td>\n",
       "    </tr>\n",
       "    <tr>\n",
       "      <th>2008-06-11</th>\n",
       "      <td>T002</td>\n",
       "      <td>1</td>\n",
       "      <td>0.0</td>\n",
       "      <td>0.0</td>\n",
       "      <td>0.0</td>\n",
       "      <td>1.0</td>\n",
       "      <td>0.0</td>\n",
       "      <td>0.0</td>\n",
       "      <td>0.0</td>\n",
       "      <td>1000</td>\n",
       "      <td>-1.243057</td>\n",
       "      <td>0.222085</td>\n",
       "      <td>-0.979018</td>\n",
       "      <td>-0.159736</td>\n",
       "      <td>-0.0776</td>\n",
       "    </tr>\n",
       "    <tr>\n",
       "      <th>2008-06-11</th>\n",
       "      <td>T002</td>\n",
       "      <td>1</td>\n",
       "      <td>0.0</td>\n",
       "      <td>0.0</td>\n",
       "      <td>0.0</td>\n",
       "      <td>0.0</td>\n",
       "      <td>0.0</td>\n",
       "      <td>1.0</td>\n",
       "      <td>0.0</td>\n",
       "      <td>1000</td>\n",
       "      <td>-1.243057</td>\n",
       "      <td>0.222085</td>\n",
       "      <td>-0.979018</td>\n",
       "      <td>-0.159736</td>\n",
       "      <td>-0.0776</td>\n",
       "    </tr>\n",
       "  </tbody>\n",
       "</table>\n",
       "</div>"
      ],
      "text/plain": [
       "            Trap  weather_station  CULEX PIPIENS  CULEX PIPIENS/RESTUANS  \\\n",
       "Date                                                                       \n",
       "2008-06-11  T002                1            0.0                     1.0   \n",
       "2008-06-11  T002                1            0.0                     0.0   \n",
       "2008-06-11  T002                1            1.0                     0.0   \n",
       "2008-06-11  T002                1            0.0                     0.0   \n",
       "2008-06-11  T002                1            0.0                     0.0   \n",
       "\n",
       "            CULEX RESTUANS  CULEX SALINARIUS  CULEX TARSALIS  CULEX TERRITANS  \\\n",
       "Date                                                                            \n",
       "2008-06-11             0.0               0.0             0.0              0.0   \n",
       "2008-06-11             1.0               0.0             0.0              0.0   \n",
       "2008-06-11             0.0               0.0             0.0              0.0   \n",
       "2008-06-11             0.0               1.0             0.0              0.0   \n",
       "2008-06-11             0.0               0.0             0.0              1.0   \n",
       "\n",
       "            UNSPECIFIED CULEX  spray     PCAw1     PCAw2     PCAw3     PCAw4  \\\n",
       "Date                                                                           \n",
       "2008-06-11                0.0   1000 -1.243057  0.222085 -0.979018 -0.159736   \n",
       "2008-06-11                0.0   1000 -1.243057  0.222085 -0.979018 -0.159736   \n",
       "2008-06-11                0.0   1000 -1.243057  0.222085 -0.979018 -0.159736   \n",
       "2008-06-11                0.0   1000 -1.243057  0.222085 -0.979018 -0.159736   \n",
       "2008-06-11                0.0   1000 -1.243057  0.222085 -0.979018 -0.159736   \n",
       "\n",
       "             PCAw5  \n",
       "Date                \n",
       "2008-06-11 -0.0776  \n",
       "2008-06-11 -0.0776  \n",
       "2008-06-11 -0.0776  \n",
       "2008-06-11 -0.0776  \n",
       "2008-06-11 -0.0776  "
      ]
     },
     "execution_count": 4,
     "metadata": {},
     "output_type": "execute_result"
    }
   ],
   "source": [
    "test=pd.read_csv(\"test3.csv\")\n",
    "test.set_index(\"Date\",inplace=True)\n",
    "test.sort_index(inplace=True)\n",
    "pd.to_datetime(test.index)\n",
    "test.head()"
   ]
  },
  {
   "cell_type": "code",
   "execution_count": 5,
   "metadata": {
    "collapsed": false
   },
   "outputs": [],
   "source": [
    "lb=LabelEncoder()\n",
    "lb.fit(train[\"Trap\"])\n",
    "train[\"Trap\"]=lb.transform(train[\"Trap\"])"
   ]
  },
  {
   "cell_type": "code",
   "execution_count": 6,
   "metadata": {
    "collapsed": false
   },
   "outputs": [
    {
     "data": {
      "text/html": [
       "<div>\n",
       "<table border=\"1\" class=\"dataframe\">\n",
       "  <thead>\n",
       "    <tr style=\"text-align: right;\">\n",
       "      <th></th>\n",
       "      <th>Trap</th>\n",
       "      <th>weather_station</th>\n",
       "      <th>CULEX PIPIENS</th>\n",
       "      <th>CULEX PIPIENS/RESTUANS</th>\n",
       "      <th>CULEX RESTUANS</th>\n",
       "      <th>CULEX SALINARIUS</th>\n",
       "      <th>CULEX TARSALIS</th>\n",
       "      <th>CULEX TERRITANS</th>\n",
       "      <th>spray</th>\n",
       "      <th>PCAw1</th>\n",
       "      <th>PCAw2</th>\n",
       "      <th>PCAw3</th>\n",
       "      <th>PCAw4</th>\n",
       "      <th>PCAw5</th>\n",
       "    </tr>\n",
       "  </thead>\n",
       "  <tbody>\n",
       "    <tr>\n",
       "      <th>0</th>\n",
       "      <td>-1.751471</td>\n",
       "      <td>-1.478366</td>\n",
       "      <td>-0.587976</td>\n",
       "      <td>1.100390</td>\n",
       "      <td>-0.593987</td>\n",
       "      <td>-0.090848</td>\n",
       "      <td>-0.023905</td>\n",
       "      <td>-0.146925</td>\n",
       "      <td>-0.281953</td>\n",
       "      <td>0.076203</td>\n",
       "      <td>-0.78964</td>\n",
       "      <td>-0.692841</td>\n",
       "      <td>-0.30493</td>\n",
       "      <td>0.257538</td>\n",
       "    </tr>\n",
       "    <tr>\n",
       "      <th>1</th>\n",
       "      <td>-1.751471</td>\n",
       "      <td>-1.478366</td>\n",
       "      <td>-0.587976</td>\n",
       "      <td>-0.908769</td>\n",
       "      <td>1.683540</td>\n",
       "      <td>-0.090848</td>\n",
       "      <td>-0.023905</td>\n",
       "      <td>-0.146925</td>\n",
       "      <td>-0.281953</td>\n",
       "      <td>0.076203</td>\n",
       "      <td>-0.78964</td>\n",
       "      <td>-0.692841</td>\n",
       "      <td>-0.30493</td>\n",
       "      <td>0.257538</td>\n",
       "    </tr>\n",
       "    <tr>\n",
       "      <th>2</th>\n",
       "      <td>-1.627948</td>\n",
       "      <td>-1.478366</td>\n",
       "      <td>-0.587976</td>\n",
       "      <td>-0.908769</td>\n",
       "      <td>1.683540</td>\n",
       "      <td>-0.090848</td>\n",
       "      <td>-0.023905</td>\n",
       "      <td>-0.146925</td>\n",
       "      <td>-0.281953</td>\n",
       "      <td>0.076203</td>\n",
       "      <td>-0.78964</td>\n",
       "      <td>-0.692841</td>\n",
       "      <td>-0.30493</td>\n",
       "      <td>0.257538</td>\n",
       "    </tr>\n",
       "    <tr>\n",
       "      <th>3</th>\n",
       "      <td>-1.455016</td>\n",
       "      <td>-1.478366</td>\n",
       "      <td>-0.587976</td>\n",
       "      <td>1.100390</td>\n",
       "      <td>-0.593987</td>\n",
       "      <td>-0.090848</td>\n",
       "      <td>-0.023905</td>\n",
       "      <td>-0.146925</td>\n",
       "      <td>-0.281953</td>\n",
       "      <td>0.076203</td>\n",
       "      <td>-0.78964</td>\n",
       "      <td>-0.692841</td>\n",
       "      <td>-0.30493</td>\n",
       "      <td>0.257538</td>\n",
       "    </tr>\n",
       "    <tr>\n",
       "      <th>4</th>\n",
       "      <td>-1.455016</td>\n",
       "      <td>-1.478366</td>\n",
       "      <td>-0.587976</td>\n",
       "      <td>-0.908769</td>\n",
       "      <td>1.683540</td>\n",
       "      <td>-0.090848</td>\n",
       "      <td>-0.023905</td>\n",
       "      <td>-0.146925</td>\n",
       "      <td>-0.281953</td>\n",
       "      <td>0.076203</td>\n",
       "      <td>-0.78964</td>\n",
       "      <td>-0.692841</td>\n",
       "      <td>-0.30493</td>\n",
       "      <td>0.257538</td>\n",
       "    </tr>\n",
       "  </tbody>\n",
       "</table>\n",
       "</div>"
      ],
      "text/plain": [
       "       Trap  weather_station  CULEX PIPIENS  CULEX PIPIENS/RESTUANS  \\\n",
       "0 -1.751471        -1.478366      -0.587976                1.100390   \n",
       "1 -1.751471        -1.478366      -0.587976               -0.908769   \n",
       "2 -1.627948        -1.478366      -0.587976               -0.908769   \n",
       "3 -1.455016        -1.478366      -0.587976                1.100390   \n",
       "4 -1.455016        -1.478366      -0.587976               -0.908769   \n",
       "\n",
       "   CULEX RESTUANS  CULEX SALINARIUS  CULEX TARSALIS  CULEX TERRITANS  \\\n",
       "0       -0.593987         -0.090848       -0.023905        -0.146925   \n",
       "1        1.683540         -0.090848       -0.023905        -0.146925   \n",
       "2        1.683540         -0.090848       -0.023905        -0.146925   \n",
       "3       -0.593987         -0.090848       -0.023905        -0.146925   \n",
       "4        1.683540         -0.090848       -0.023905        -0.146925   \n",
       "\n",
       "      spray     PCAw1    PCAw2     PCAw3    PCAw4     PCAw5  \n",
       "0 -0.281953  0.076203 -0.78964 -0.692841 -0.30493  0.257538  \n",
       "1 -0.281953  0.076203 -0.78964 -0.692841 -0.30493  0.257538  \n",
       "2 -0.281953  0.076203 -0.78964 -0.692841 -0.30493  0.257538  \n",
       "3 -0.281953  0.076203 -0.78964 -0.692841 -0.30493  0.257538  \n",
       "4 -0.281953  0.076203 -0.78964 -0.692841 -0.30493  0.257538  "
      ]
     },
     "execution_count": 6,
     "metadata": {},
     "output_type": "execute_result"
    }
   ],
   "source": [
    "std=StandardScaler()\n",
    "std.fit(train)\n",
    "train_scal=pd.DataFrame(std.transform(train),columns=train.columns.tolist())\n",
    "train_scal.head()"
   ]
  },
  {
   "cell_type": "code",
   "execution_count": 7,
   "metadata": {
    "collapsed": false
   },
   "outputs": [
    {
     "data": {
      "text/html": [
       "<div>\n",
       "<table border=\"1\" class=\"dataframe\">\n",
       "  <thead>\n",
       "    <tr style=\"text-align: right;\">\n",
       "      <th></th>\n",
       "      <th>Trap</th>\n",
       "      <th>weather_station</th>\n",
       "      <th>CULEX PIPIENS</th>\n",
       "      <th>CULEX PIPIENS/RESTUANS</th>\n",
       "      <th>CULEX RESTUANS</th>\n",
       "      <th>CULEX SALINARIUS</th>\n",
       "      <th>CULEX TARSALIS</th>\n",
       "      <th>CULEX TERRITANS</th>\n",
       "      <th>UNSPECIFIED CULEX</th>\n",
       "      <th>spray</th>\n",
       "      <th>PCAw1</th>\n",
       "      <th>PCAw2</th>\n",
       "      <th>PCAw3</th>\n",
       "      <th>PCAw4</th>\n",
       "      <th>PCAw5</th>\n",
       "    </tr>\n",
       "  </thead>\n",
       "  <tbody>\n",
       "    <tr>\n",
       "      <th>0</th>\n",
       "      <td>-1.676724</td>\n",
       "      <td>-1.511628</td>\n",
       "      <td>-0.377732</td>\n",
       "      <td>2.563523</td>\n",
       "      <td>-0.379944</td>\n",
       "      <td>-0.375261</td>\n",
       "      <td>-0.375142</td>\n",
       "      <td>-0.375201</td>\n",
       "      <td>-0.375112</td>\n",
       "      <td>-0.43622</td>\n",
       "      <td>-0.060383</td>\n",
       "      <td>0.462774</td>\n",
       "      <td>-0.908721</td>\n",
       "      <td>-0.079402</td>\n",
       "      <td>-0.242015</td>\n",
       "    </tr>\n",
       "    <tr>\n",
       "      <th>1</th>\n",
       "      <td>-1.676724</td>\n",
       "      <td>-1.511628</td>\n",
       "      <td>-0.377732</td>\n",
       "      <td>-0.390088</td>\n",
       "      <td>2.631970</td>\n",
       "      <td>-0.375261</td>\n",
       "      <td>-0.375142</td>\n",
       "      <td>-0.375201</td>\n",
       "      <td>-0.375112</td>\n",
       "      <td>-0.43622</td>\n",
       "      <td>-0.060383</td>\n",
       "      <td>0.462774</td>\n",
       "      <td>-0.908721</td>\n",
       "      <td>-0.079402</td>\n",
       "      <td>-0.242015</td>\n",
       "    </tr>\n",
       "    <tr>\n",
       "      <th>2</th>\n",
       "      <td>-1.676724</td>\n",
       "      <td>-1.511628</td>\n",
       "      <td>2.647378</td>\n",
       "      <td>-0.390088</td>\n",
       "      <td>-0.379944</td>\n",
       "      <td>-0.375261</td>\n",
       "      <td>-0.375142</td>\n",
       "      <td>-0.375201</td>\n",
       "      <td>-0.375112</td>\n",
       "      <td>-0.43622</td>\n",
       "      <td>-0.060383</td>\n",
       "      <td>0.462774</td>\n",
       "      <td>-0.908721</td>\n",
       "      <td>-0.079402</td>\n",
       "      <td>-0.242015</td>\n",
       "    </tr>\n",
       "    <tr>\n",
       "      <th>3</th>\n",
       "      <td>-1.676724</td>\n",
       "      <td>-1.511628</td>\n",
       "      <td>-0.377732</td>\n",
       "      <td>-0.390088</td>\n",
       "      <td>-0.379944</td>\n",
       "      <td>2.664811</td>\n",
       "      <td>-0.375142</td>\n",
       "      <td>-0.375201</td>\n",
       "      <td>-0.375112</td>\n",
       "      <td>-0.43622</td>\n",
       "      <td>-0.060383</td>\n",
       "      <td>0.462774</td>\n",
       "      <td>-0.908721</td>\n",
       "      <td>-0.079402</td>\n",
       "      <td>-0.242015</td>\n",
       "    </tr>\n",
       "    <tr>\n",
       "      <th>4</th>\n",
       "      <td>-1.676724</td>\n",
       "      <td>-1.511628</td>\n",
       "      <td>-0.377732</td>\n",
       "      <td>-0.390088</td>\n",
       "      <td>-0.379944</td>\n",
       "      <td>-0.375261</td>\n",
       "      <td>-0.375142</td>\n",
       "      <td>2.665235</td>\n",
       "      <td>-0.375112</td>\n",
       "      <td>-0.43622</td>\n",
       "      <td>-0.060383</td>\n",
       "      <td>0.462774</td>\n",
       "      <td>-0.908721</td>\n",
       "      <td>-0.079402</td>\n",
       "      <td>-0.242015</td>\n",
       "    </tr>\n",
       "  </tbody>\n",
       "</table>\n",
       "</div>"
      ],
      "text/plain": [
       "       Trap  weather_station  CULEX PIPIENS  CULEX PIPIENS/RESTUANS  \\\n",
       "0 -1.676724        -1.511628      -0.377732                2.563523   \n",
       "1 -1.676724        -1.511628      -0.377732               -0.390088   \n",
       "2 -1.676724        -1.511628       2.647378               -0.390088   \n",
       "3 -1.676724        -1.511628      -0.377732               -0.390088   \n",
       "4 -1.676724        -1.511628      -0.377732               -0.390088   \n",
       "\n",
       "   CULEX RESTUANS  CULEX SALINARIUS  CULEX TARSALIS  CULEX TERRITANS  \\\n",
       "0       -0.379944         -0.375261       -0.375142        -0.375201   \n",
       "1        2.631970         -0.375261       -0.375142        -0.375201   \n",
       "2       -0.379944         -0.375261       -0.375142        -0.375201   \n",
       "3       -0.379944          2.664811       -0.375142        -0.375201   \n",
       "4       -0.379944         -0.375261       -0.375142         2.665235   \n",
       "\n",
       "   UNSPECIFIED CULEX    spray     PCAw1     PCAw2     PCAw3     PCAw4  \\\n",
       "0          -0.375112 -0.43622 -0.060383  0.462774 -0.908721 -0.079402   \n",
       "1          -0.375112 -0.43622 -0.060383  0.462774 -0.908721 -0.079402   \n",
       "2          -0.375112 -0.43622 -0.060383  0.462774 -0.908721 -0.079402   \n",
       "3          -0.375112 -0.43622 -0.060383  0.462774 -0.908721 -0.079402   \n",
       "4          -0.375112 -0.43622 -0.060383  0.462774 -0.908721 -0.079402   \n",
       "\n",
       "      PCAw5  \n",
       "0 -0.242015  \n",
       "1 -0.242015  \n",
       "2 -0.242015  \n",
       "3 -0.242015  \n",
       "4 -0.242015  "
      ]
     },
     "execution_count": 7,
     "metadata": {},
     "output_type": "execute_result"
    }
   ],
   "source": [
    "lb=LabelEncoder()\n",
    "lb.fit(test[\"Trap\"])\n",
    "test[\"Trap\"]=lb.transform(test[\"Trap\"])\n",
    "\n",
    "std=StandardScaler()\n",
    "std.fit(test)\n",
    "test_scal=pd.DataFrame(std.transform(test),columns=test.columns.tolist())\n",
    "test_scal.head()"
   ]
  },
  {
   "cell_type": "code",
   "execution_count": 8,
   "metadata": {
    "collapsed": false
   },
   "outputs": [
    {
     "name": "stdout",
     "output_type": "stream",
     "text": [
      "Baseline 0.947553778793\n"
     ]
    }
   ],
   "source": [
    "print \"Baseline\", 1-sum(target)/target.count()"
   ]
  },
  {
   "cell_type": "code",
   "execution_count": 9,
   "metadata": {
    "collapsed": true
   },
   "outputs": [],
   "source": [
    "X_train,X_test,y_train, y_test=train_test_split(train_scal,target,test_size=0.40,random_state=73)"
   ]
  },
  {
   "cell_type": "markdown",
   "metadata": {},
   "source": [
    "# with trap encoding"
   ]
  },
  {
   "cell_type": "code",
   "execution_count": 10,
   "metadata": {
    "collapsed": false
   },
   "outputs": [
    {
     "name": "stdout",
     "output_type": "stream",
     "text": [
      "Logit:\n",
      "score: <bound method LogisticRegression.score of LogisticRegression(C=1.0, class_weight=None, dual=False, fit_intercept=True,\n",
      "          intercept_scaling=1, max_iter=100, multi_class='ovr', n_jobs=1,\n",
      "          penalty='l2', random_state=None, solver='liblinear', tol=0.0001,\n",
      "          verbose=0, warm_start=False)>\n",
      "Accuracity: 0.946466809422\n",
      "number of 1 prediction 0, number of 1 y_test 225\n",
      "------\n",
      "\n"
     ]
    }
   ],
   "source": [
    "# Logistic regression\n",
    "\n",
    "logit=LogisticRegression()\n",
    "logit.fit(X_train,y_train)\n",
    "prediction=logit.predict(X_test)\n",
    "\n",
    "print \"Logit:\"\n",
    "print \"score:\", logit.score\n",
    "print \"Accuracity:\",metrics.accuracy_score(y_test,prediction)\n",
    "print \"number of 1 prediction %d, number of 1 y_test %d\"%(sum(prediction),sum(y_test))\n",
    "print \"------\\n\"\n",
    "\n"
   ]
  },
  {
   "cell_type": "code",
   "execution_count": 11,
   "metadata": {
    "collapsed": false
   },
   "outputs": [
    {
     "name": "stdout",
     "output_type": "stream",
     "text": [
      "Bernouilli:\n",
      "score: <bound method BernoulliNB.score of BernoulliNB(alpha=1.0, binarize=0.0, class_prior=None, fit_prior=True)>\n",
      "Accuracity: 0.944909143352\n",
      "number of 1 prediction 0, number of 1 y_test 225\n",
      "------\n",
      "\n",
      "MultinomialNB:\n",
      "score: <bound method MultinomialNB.score of MultinomialNB(alpha=1.0, class_prior=None, fit_prior=True)>\n",
      "Accuracity: 0.944909143352\n",
      "number of 1 prediction 0, number of 1 y_test 225\n",
      "------\n",
      "\n"
     ]
    }
   ],
   "source": [
    "# Naive bays\n",
    "Mx=MinMaxScaler()\n",
    "Mx.fit(train)\n",
    "train_scal_2=pd.DataFrame(Mx.transform(train),columns=train.columns.tolist())\n",
    "train_scal_2.head()\n",
    "\n",
    "X_train2,X_test2,y_train2, y_test2=train_test_split(train_scal_2,target,test_size=0.33,random_state=73)\n",
    "\n",
    "\n",
    "\n",
    "clf_ber=BernoulliNB()\n",
    "clf_ber.fit(X_train2,y_train2)\n",
    "prediction=clf_ber.predict(X_test2)\n",
    "\n",
    "print \"Bernouilli:\"\n",
    "print \"score:\", clf_ber.score\n",
    "print \"Accuracity:\",metrics.accuracy_score(y_test2,prediction)\n",
    "print \"number of 1 prediction %d, number of 1 y_test %d\"%(sum(prediction),sum(y_test))\n",
    "print \"------\\n\"\n",
    "\n",
    "clf_nb=MultinomialNB()\n",
    "clf_nb.fit(X_train2,y_train2)\n",
    "prediction=clf_nb.predict(X_test2)\n",
    "\n",
    "print \"MultinomialNB:\"\n",
    "print \"score:\", clf_nb.score\n",
    "print \"Accuracity:\",metrics.accuracy_score(y_test2,prediction)\n",
    "print \"number of 1 prediction %d, number of 1 y_test %d\"%(sum(prediction),sum(y_test))\n",
    "print \"------\\n\"\n"
   ]
  },
  {
   "cell_type": "code",
   "execution_count": 12,
   "metadata": {
    "collapsed": false
   },
   "outputs": [
    {
     "name": "stdout",
     "output_type": "stream",
     "text": [
      "SMM:\n",
      "score: <bound method SVC.score of SVC(C=1.0, cache_size=200, class_weight=None, coef0=0.0,\n",
      "  decision_function_shape=None, degree=3, gamma='auto', kernel='rbf',\n",
      "  max_iter=-1, probability=False, random_state=None, shrinking=True,\n",
      "  tol=0.001, verbose=False)>\n",
      "Accuracity: 0.946466809422\n",
      "number of 1 prediction 0, number of 1 y_test 225\n",
      "------\n",
      "\n"
     ]
    }
   ],
   "source": [
    "# SVM\n",
    "\n",
    "svc=svm.SVC()\n",
    "svc.fit(X_train,y_train)\n",
    "prediction=svc.predict(X_test)\n",
    "\n",
    "print \"SMM:\"\n",
    "print \"score:\", svc.score\n",
    "print \"Accuracity:\",metrics.accuracy_score(y_test,prediction)\n",
    "print \"number of 1 prediction %d, number of 1 y_test %d\"%(sum(prediction),sum(y_test))\n",
    "print \"------\\n\""
   ]
  },
  {
   "cell_type": "code",
   "execution_count": 74,
   "metadata": {
    "collapsed": false
   },
   "outputs": [
    {
     "name": "stdout",
     "output_type": "stream",
     "text": [
      "min Bagging:0.0636204733939for n-estimator:8\n",
      "min Adabost:0.0517212472585for n-estimator:1\n",
      "min ExtraTree:0.0698084334525for n-estimator:2\n",
      "min RandomForest:0.0626668346748for n-estimator:2\n"
     ]
    },
    {
     "data": {
      "image/png": "[encoded data removed]",
      "text/plain": [
       "<matplotlib.figure.Figure at 0x11723f1d0>"
      ]
     },
     "metadata": {},
     "output_type": "display_data"
    }
   ],
   "source": [
    "# Ensemble\n",
    "\n",
    "\n",
    "estimators=range(1,train_scal.shape[1])\n",
    "\n",
    "def get_mean_mse(model,n):\n",
    "    ensemble=model(n_estimators=n)\n",
    "    score=cross_val_score(ensemble,X_train,y_train, cv=5,scoring=\"neg_mean_squared_error\")\n",
    "    return np.mean(score)\n",
    "\n",
    "Bagging=[]\n",
    "Adaboost=[]\n",
    "ExtraTree=[]\n",
    "RandomForest=[]\n",
    "\n",
    "\n",
    "for i in estimators:\n",
    "    Bagging.append(get_mean_mse(BaggingClassifier,i))\n",
    "    Adaboost.append(get_mean_mse(AdaBoostClassifier,i))\n",
    "    ExtraTree.append(get_mean_mse(ExtraTreesClassifier,i))\n",
    "    RandomForest.append(get_mean_mse(RandomForestClassifier,i))\n",
    "\n",
    "print(\"min Bagging:\"+ str(min(np.absolute(Bagging)))+ \"for n-estimator:\" + \\\n",
    "str(estimators[Bagging.index(-min(np.absolute(Bagging)))]))\n",
    "\n",
    "print(\"min Adabost:\"+ str(min(np.absolute(Adaboost)))+ \"for n-estimator:\" + \\\n",
    "str(estimators[Adaboost.index(-min(np.absolute(Adaboost)))]))\n",
    "\n",
    "print(\"min ExtraTree:\"+ str(min(np.absolute(ExtraTree)))+ \"for n-estimator:\" + \\\n",
    "str(estimators[ExtraTree.index(-min(np.absolute(ExtraTree)))]))\n",
    "\n",
    "print(\"min RandomForest:\"+ str(min(np.absolute(RandomForest)))+ \"for n-estimator:\" + \\\n",
    "str(estimators[RandomForest.index(-min(np.absolute(RandomForest)))]))\n",
    "\n",
    "plt.figure(figsize=(8,8))\n",
    "plt.plot(estimators,np.absolute(Bagging),label=\"BaggingRegressor\",c=\"r\")\n",
    "plt.plot(estimators,np.absolute(Adaboost),label=\"AdaBoostRegressor\",c=\"b\")\n",
    "plt.plot(estimators,np.absolute(ExtraTree),label=\"ExtraTreesRegressor\",c=\"g\")\n",
    "plt.plot(estimators,np.absolute(RandomForest),label=\"RandomForestRegressor\",c=\"y\")\n",
    "plt.xlabel(\"estimator\")\n",
    "plt.ylabel(\"mse\")\n",
    "plt.legend(loc=2)\n",
    "plt.show()"
   ]
  },
  {
   "cell_type": "code",
   "execution_count": 75,
   "metadata": {
    "collapsed": false
   },
   "outputs": [
    {
     "name": "stdout",
     "output_type": "stream",
     "text": [
      " mse: 0.0535331905782\n",
      " r2 score: -0.0565610859729\n"
     ]
    },
    {
     "data": {
      "image/png": "[encoded data removed]",
      "text/plain": [
       "<matplotlib.figure.Figure at 0x1188edf90>"
      ]
     },
     "metadata": {},
     "output_type": "display_data"
    },
    {
     "name": "stdout",
     "output_type": "stream",
     "text": [
      "accuracity: 0.946466809422\n",
      "number of 1 prediction 0, number of 1 y_test 225\n"
     ]
    }
   ],
   "source": [
    "ad = AdaBoostClassifier(n_estimators=8)\n",
    "\n",
    "model=ad.fit(X_train,y_train)\n",
    "prediction=model.predict(X_test)\n",
    "\n",
    "print \" mse:\", metrics.mean_squared_error(y_test,prediction)\n",
    "print \" r2 score:\", metrics.r2_score(y_test,prediction)\n",
    "plt.plot(range(len(prediction)),prediction)\n",
    "plt.show()\n",
    "\n",
    "#prediction_final=pd.DataFrame(data=prediction)\n",
    "#prediction_final.columns=[\"prediction\"]\n",
    "\n",
    "\n",
    "#prediction_final[\"result\"]=prediction_final[\"prediction\"].apply(lambda x: 1 if x>0.2 else 0)\n",
    "#del prediction_final[\"prediction\"]\n",
    "\n",
    "print \"accuracity:\", metrics.accuracy_score(y_test,prediction)\n",
    "print \"number of 1 prediction %d, number of 1 y_test %d\"%(prediction.sum(),sum(y_test))"
   ]
  },
  {
   "cell_type": "markdown",
   "metadata": {},
   "source": [
    "___\n",
    "\n",
    "# Apply on test set.\n",
    "\n",
    "- fit on train_scal and adaboost\n",
    "- predict on test_scal\n",
    "- send to kaggle"
   ]
  },
  {
   "cell_type": "code",
   "execution_count": 15,
   "metadata": {
    "collapsed": true
   },
   "outputs": [],
   "source": [
    "# predict logreg"
   ]
  },
  {
   "cell_type": "code",
   "execution_count": 16,
   "metadata": {
    "collapsed": true
   },
   "outputs": [],
   "source": [
    "test_scal.drop('UNSPECIFIED CULEX', axis=1, inplace=True)"
   ]
  },
  {
   "cell_type": "code",
   "execution_count": 17,
   "metadata": {
    "collapsed": false
   },
   "outputs": [],
   "source": [
    "y_pred = logit.predict(test_scal)"
   ]
  },
  {
   "cell_type": "code",
   "execution_count": 18,
   "metadata": {
    "collapsed": false
   },
   "outputs": [],
   "source": [
    "y_pred = pd.DataFrame(y_pred)"
   ]
  },
  {
   "cell_type": "code",
   "execution_count": 19,
   "metadata": {
    "collapsed": false
   },
   "outputs": [],
   "source": [
    "y_pred.to_csv('y_pred_logreg.csv')"
   ]
  },
  {
   "cell_type": "code",
   "execution_count": 91,
   "metadata": {
    "collapsed": false
   },
   "outputs": [],
   "source": [
    "# ad\n",
    "ad = AdaBoostRegressor(n_estimators=2,random_state=73)\n",
    "model=ad.fit(train,target)\n",
    "\n",
    "y_prediction=model.predict(test_scal)\n",
    "\n",
    "y_prediction_final=pd.DataFrame(data=y_prediction)\n",
    "y_prediction_final.columns=[\"prediction\"]\n",
    "\n",
    "\n",
    "y_prediction_final[\"result\"]=y_prediction_final[\"prediction\"].apply(lambda x: 1 if x>0.025 else 0)\n",
    "del y_prediction_final[\"prediction\"]"
   ]
  },
  {
   "cell_type": "code",
   "execution_count": 92,
   "metadata": {
    "collapsed": false
   },
   "outputs": [],
   "source": [
    "y_prediction_final.to_csv('ada_y3.csv')"
   ]
  },
  {
   "cell_type": "code",
   "execution_count": 93,
   "metadata": {
    "collapsed": false
   },
   "outputs": [
    {
     "data": {
      "text/plain": [
       "51104"
      ]
     },
     "execution_count": 93,
     "metadata": {},
     "output_type": "execute_result"
    }
   ],
   "source": [
    "y_prediction_final['result'].sum()"
   ]
  },
  {
   "cell_type": "code",
   "execution_count": null,
   "metadata": {
    "collapsed": true
   },
   "outputs": [],
   "source": []
  }
 ],
 "metadata": {
  "anaconda-cloud": {},
  "kernelspec": {
   "display_name": "Python [conda root]",
   "language": "python",
   "name": "conda-root-py"
  },
  "language_info": {
   "codemirror_mode": {
    "name": "ipython",
    "version": 2
   },
   "file_extension": ".py",
   "mimetype": "text/x-python",
   "name": "python",
   "nbconvert_exporter": "python",
   "pygments_lexer": "ipython2",
   "version": "2.7.12"
  }
 },
 "nbformat": 4,
 "nbformat_minor": 1
}
